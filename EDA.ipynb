{
 "cells": [
  {
   "cell_type": "code",
   "execution_count": 1,
   "source": [
    "import pandas as pd \n",
    "import numpy as np\n",
    "from pprint import pprint\n",
    "\n",
    "from utils import clean\n",
    "from matplotlib import pyplot as plt"
   ],
   "outputs": [],
   "metadata": {}
  },
  {
   "cell_type": "markdown",
   "source": [
    "# **Dataset**"
   ],
   "metadata": {}
  },
  {
   "cell_type": "code",
   "execution_count": 2,
   "source": [
    "df = pd.read_csv('dataset/reclamos_202109241237.csv')\n",
    "df.columns"
   ],
   "outputs": [
    {
     "output_type": "execute_result",
     "data": {
      "text/plain": [
       "Index(['id', 'nro_litigio', 'pais_recepcion_notificacion', 'moneda',\n",
       "       'tipo_cambio', 'monto_dano_material_reclamado_ml',\n",
       "       'monto_dano_moral_reclamado_ml', 'monto_dano_punitivo_ml',\n",
       "       'monto_dano_moral_punitivo_ml', 'monto_reclamado_total_ml',\n",
       "       'monto_reclamado_total_usd', 'estado', 'sub_estado',\n",
       "       'fecha_notificacion', 'probabilidad_perdida', 'monto_riesgo', 'tipo',\n",
       "       'sub_tipo', 'motivo', 'deleted', 'creado_por', 'fecha_derivacion',\n",
       "       'fecha_creacion', 'fecha_modificacion', 'fecha_acuerdo',\n",
       "       'fecha_de_baja', 'reserva_principal', 'usuario_asignado',\n",
       "       'numero_expediente', 'situacion_en_despegar', 'enviado_a', 'accion',\n",
       "       'tipo_accion', 'organo', 'tipo_estado', 'producto_reserva_principal',\n",
       "       'fecha_de_vencimiento', 'pedido_del_cliente',\n",
       "       'propuesta_aceptada_cliente', 'hechos_segun_despegar',\n",
       "       'hechos_segun_pasajero', 'pretension_del_cliente',\n",
       "       'propuesta_de_ofrecimiento'],\n",
       "      dtype='object')"
      ]
     },
     "metadata": {},
     "execution_count": 2
    }
   ],
   "metadata": {}
  },
  {
   "cell_type": "code",
   "execution_count": 4,
   "source": [
    "df = df[[\n",
    "    'id',\n",
    "    'nro_litigio',\n",
    "    'reserva_principal',\n",
    "    'usuario_asignado',\n",
    "    'producto_reserva_principal',\n",
    "    'pedido_del_cliente',\n",
    "    'propuesta_aceptada_cliente',\n",
    "    'hechos_segun_despegar',\n",
    "    'hechos_segun_pasajero',\n",
    "    'pretension_del_cliente', \n",
    "    'propuesta_de_ofrecimiento'\n",
    "    ]]"
   ],
   "outputs": [],
   "metadata": {}
  },
  {
   "cell_type": "code",
   "execution_count": null,
   "source": [
    "df.head()"
   ],
   "outputs": [
    {
     "data": {
      "text/html": [
       "<div>\n",
       "<style scoped>\n",
       "    .dataframe tbody tr th:only-of-type {\n",
       "        vertical-align: middle;\n",
       "    }\n",
       "\n",
       "    .dataframe tbody tr th {\n",
       "        vertical-align: top;\n",
       "    }\n",
       "\n",
       "    .dataframe thead th {\n",
       "        text-align: right;\n",
       "    }\n",
       "</style>\n",
       "<table border=\"1\" class=\"dataframe\">\n",
       "  <thead>\n",
       "    <tr style=\"text-align: right;\">\n",
       "      <th></th>\n",
       "      <th>id</th>\n",
       "      <th>nro_litigio</th>\n",
       "      <th>reserva_principal</th>\n",
       "      <th>usuario_asignado</th>\n",
       "      <th>producto_reserva_principal</th>\n",
       "      <th>pedido_del_cliente</th>\n",
       "      <th>propuesta_aceptada_cliente</th>\n",
       "      <th>hechos_segun_despegar</th>\n",
       "      <th>hechos_segun_pasajero</th>\n",
       "      <th>pretension_del_cliente</th>\n",
       "      <th>propuesta_de_ofrecimiento</th>\n",
       "    </tr>\n",
       "  </thead>\n",
       "  <tbody>\n",
       "    <tr>\n",
       "      <th>0</th>\n",
       "      <td>9ab56c3f-77d7-b5b2-c6a0-60e31efb1fc0</td>\n",
       "      <td>246666</td>\n",
       "      <td>547b3657-82be-b721-8f88-60e31c8f6f8f</td>\n",
       "      <td>969002fa-5f01-a2b9-daf7-60785378acec</td>\n",
       "      <td>FLIGHT</td>\n",
       "      <td>ALTERACAO</td>\n",
       "      <td>NaN</td>\n",
       "      <td>05/07/2021 Apertura de caso\\n21/02/2020 Client...</td>\n",
       "      <td>Autoridades del Ministerio de Turismo: Con fec...</td>\n",
       "      <td>cambio</td>\n",
       "      <td>\\nSe realizan las verificaciones correspondien...</td>\n",
       "    </tr>\n",
       "    <tr>\n",
       "      <th>1</th>\n",
       "      <td>1e4d38a0-3e47-e7d1-14cd-60e3271d8e95</td>\n",
       "      <td>246680</td>\n",
       "      <td>115df3d6-d6bc-91f6-3be7-60e3256550c4</td>\n",
       "      <td>e797067f-7ab5-7bec-e58e-6078531d28e0</td>\n",
       "      <td>FLIGHT</td>\n",
       "      <td>ALTERACAO</td>\n",
       "      <td>NaN</td>\n",
       "      <td>05/07/2021 Alta de litigio \\n22-01-2020 Client...</td>\n",
       "      <td>Tengo pasajes comprados para viajar en familia...</td>\n",
       "      <td>Cambio de fechas</td>\n",
       "      <td>Hemos analizado el caso y en primer lugar, rec...</td>\n",
       "    </tr>\n",
       "    <tr>\n",
       "      <th>2</th>\n",
       "      <td>e9610ad5-681d-adc5-a00c-60e33de80451</td>\n",
       "      <td>246712</td>\n",
       "      <td>7ae5d66c-8080-de06-10a7-60e33d9bb0bc</td>\n",
       "      <td>e797067f-7ab5-7bec-e58e-6078531d28e0</td>\n",
       "      <td>CAR</td>\n",
       "      <td>CANCELAMENTO</td>\n",
       "      <td>NaN</td>\n",
       "      <td>05/07/2021 Apertura de caso \\n\\n\\n19-03-2021  ...</td>\n",
       "      <td>Vengo a interponer formal queja en contra del ...</td>\n",
       "      <td>Devolución</td>\n",
       "      <td>Hemos analizado el caso y en primer lugar, rec...</td>\n",
       "    </tr>\n",
       "    <tr>\n",
       "      <th>3</th>\n",
       "      <td>ab076235-0849-d2a4-a72b-60e302e7c593</td>\n",
       "      <td>246590</td>\n",
       "      <td>9e26cf73-7638-3b13-ad50-60e3001a7a65</td>\n",
       "      <td>a88d0f37-a1db-b4b7-4c65-601ad12c0db3</td>\n",
       "      <td>FLIGHT</td>\n",
       "      <td>ALTERACAO</td>\n",
       "      <td>NaN</td>\n",
       "      <td>05/07/2021 Apertura de caso\\n\\nAUDITORIA 05/07...</td>\n",
       "      <td>Agradeciendo de antemano las gestiones en el p...</td>\n",
       "      <td>cambio</td>\n",
       "      <td>Estimados,\\n\\nNos comunicamos desde Despegar e...</td>\n",
       "    </tr>\n",
       "    <tr>\n",
       "      <th>4</th>\n",
       "      <td>5099a896-b85f-1884-a4ce-60e308867573</td>\n",
       "      <td>246597</td>\n",
       "      <td>24e8982f-7a6d-4b16-3663-60e306a414be</td>\n",
       "      <td>a88d0f37-a1db-b4b7-4c65-601ad12c0db3</td>\n",
       "      <td>FLIGHT</td>\n",
       "      <td>CANCELAMENTO</td>\n",
       "      <td>NaN</td>\n",
       "      <td>05/07/2021 Alta de litigio.\\n\\n06/07/2021 AUDI...</td>\n",
       "      <td>PRIMERO.- Con fecha 22 de diciembre del año 20...</td>\n",
       "      <td>\\r\\nRECLAMACION: La devolución de las siguient...</td>\n",
       "      <td>Estimados,\\n\\nNos comunicamos desde Despegar e...</td>\n",
       "    </tr>\n",
       "  </tbody>\n",
       "</table>\n",
       "</div>"
      ],
      "text/plain": [
       "                                     id  nro_litigio  \\\n",
       "0  9ab56c3f-77d7-b5b2-c6a0-60e31efb1fc0       246666   \n",
       "1  1e4d38a0-3e47-e7d1-14cd-60e3271d8e95       246680   \n",
       "2  e9610ad5-681d-adc5-a00c-60e33de80451       246712   \n",
       "3  ab076235-0849-d2a4-a72b-60e302e7c593       246590   \n",
       "4  5099a896-b85f-1884-a4ce-60e308867573       246597   \n",
       "\n",
       "                      reserva_principal                      usuario_asignado  \\\n",
       "0  547b3657-82be-b721-8f88-60e31c8f6f8f  969002fa-5f01-a2b9-daf7-60785378acec   \n",
       "1  115df3d6-d6bc-91f6-3be7-60e3256550c4  e797067f-7ab5-7bec-e58e-6078531d28e0   \n",
       "2  7ae5d66c-8080-de06-10a7-60e33d9bb0bc  e797067f-7ab5-7bec-e58e-6078531d28e0   \n",
       "3  9e26cf73-7638-3b13-ad50-60e3001a7a65  a88d0f37-a1db-b4b7-4c65-601ad12c0db3   \n",
       "4  24e8982f-7a6d-4b16-3663-60e306a414be  a88d0f37-a1db-b4b7-4c65-601ad12c0db3   \n",
       "\n",
       "  producto_reserva_principal pedido_del_cliente propuesta_aceptada_cliente  \\\n",
       "0                     FLIGHT          ALTERACAO                        NaN   \n",
       "1                     FLIGHT          ALTERACAO                        NaN   \n",
       "2                        CAR       CANCELAMENTO                        NaN   \n",
       "3                     FLIGHT          ALTERACAO                        NaN   \n",
       "4                     FLIGHT       CANCELAMENTO                        NaN   \n",
       "\n",
       "                               hechos_segun_despegar  \\\n",
       "0  05/07/2021 Apertura de caso\\n21/02/2020 Client...   \n",
       "1  05/07/2021 Alta de litigio \\n22-01-2020 Client...   \n",
       "2  05/07/2021 Apertura de caso \\n\\n\\n19-03-2021  ...   \n",
       "3  05/07/2021 Apertura de caso\\n\\nAUDITORIA 05/07...   \n",
       "4  05/07/2021 Alta de litigio.\\n\\n06/07/2021 AUDI...   \n",
       "\n",
       "                               hechos_segun_pasajero  \\\n",
       "0  Autoridades del Ministerio de Turismo: Con fec...   \n",
       "1  Tengo pasajes comprados para viajar en familia...   \n",
       "2  Vengo a interponer formal queja en contra del ...   \n",
       "3  Agradeciendo de antemano las gestiones en el p...   \n",
       "4  PRIMERO.- Con fecha 22 de diciembre del año 20...   \n",
       "\n",
       "                              pretension_del_cliente  \\\n",
       "0                                             cambio   \n",
       "1                                   Cambio de fechas   \n",
       "2                                         Devolución   \n",
       "3                                             cambio   \n",
       "4  \\r\\nRECLAMACION: La devolución de las siguient...   \n",
       "\n",
       "                           propuesta_de_ofrecimiento  \n",
       "0  \\nSe realizan las verificaciones correspondien...  \n",
       "1  Hemos analizado el caso y en primer lugar, rec...  \n",
       "2  Hemos analizado el caso y en primer lugar, rec...  \n",
       "3  Estimados,\\n\\nNos comunicamos desde Despegar e...  \n",
       "4  Estimados,\\n\\nNos comunicamos desde Despegar e...  "
      ]
     },
     "metadata": {},
     "output_type": "display_data"
    }
   ],
   "metadata": {}
  },
  {
   "cell_type": "code",
   "execution_count": null,
   "source": [
    "pret_cliente = df.pretension_del_cliente.dropna().reset_index(drop=True)\n",
    "ped_cliente = df.pedido_del_cliente.dropna().reset_index(drop=True)\n",
    "propuesta = df.propuesta_de_ofrecimiento.dropna().reset_index(drop=True)\n"
   ],
   "outputs": [],
   "metadata": {}
  },
  {
   "cell_type": "markdown",
   "source": [
    "# **Análisis**"
   ],
   "metadata": {}
  },
  {
   "cell_type": "code",
   "execution_count": 172,
   "source": [
    "proporcion = lambda long, data:len(list(filter(lambda x: x<=long, data.apply(lambda x: len(x.split())))))/len(data.apply(lambda x: len(x.split())))"
   ],
   "outputs": [],
   "metadata": {}
  },
  {
   "cell_type": "markdown",
   "source": [
    "## Propuesta aceptada cliente"
   ],
   "metadata": {}
  },
  {
   "cell_type": "code",
   "execution_count": 95,
   "source": [
    "df.propuesta_aceptada_cliente.value_counts(normalize=True).plot(\n",
    "    kind='barh',\n",
    "    figsize=(10,10),\n",
    "    title='propuesta_aceptada_cliente',\n",
    "    )"
   ],
   "outputs": [
    {
     "output_type": "execute_result",
     "data": {
      "text/plain": [
       "<AxesSubplot:title={'center':'propuesta_aceptada_cliente'}>"
      ]
     },
     "metadata": {},
     "execution_count": 95
    },
    {
     "output_type": "display_data",
     "data": {
      "image/png": "[encoded data removed]",
      "text/plain": [
       "<Figure size 720x720 with 1 Axes>"
      ]
     },
     "metadata": {
      "needs_background": "light"
     }
    }
   ],
   "metadata": {}
  },
  {
   "cell_type": "markdown",
   "source": [
    "## Reserva principal frecuencia de repetción\n",
    "el relitigio mínimo de 2 se da 818 veces"
   ],
   "metadata": {}
  },
  {
   "cell_type": "code",
   "execution_count": 71,
   "source": [
    "reserva_ppal = df.reserva_principal.value_counts().values#.plot(kind='barh', figsize=(10,10))"
   ],
   "outputs": [],
   "metadata": {}
  },
  {
   "cell_type": "code",
   "execution_count": 124,
   "source": [
    "reserva_ppal_freq = [(reserva_ppal.tolist().count(i+1),i+1) for i in range(reserva_ppal.max())]\n",
    "reserva_ppal_freq"
   ],
   "outputs": [
    {
     "output_type": "execute_result",
     "data": {
      "text/plain": [
       "[(13716, 1), (818, 2), (91, 3), (19, 4), (10, 5), (1, 6)]"
      ]
     },
     "metadata": {},
     "execution_count": 124
    }
   ],
   "metadata": {}
  },
  {
   "cell_type": "markdown",
   "source": [
    "## Número de litigio\n",
    "es el valor único en la tabla para cada caso"
   ],
   "metadata": {}
  },
  {
   "cell_type": "code",
   "execution_count": 8,
   "source": [
    "df.nro_litigio.value_counts()"
   ],
   "outputs": [
    {
     "output_type": "execute_result",
     "data": {
      "text/plain": [
       "246666    1\n",
       "259195    1\n",
       "259181    1\n",
       "259175    1\n",
       "259183    1\n",
       "         ..\n",
       "253089    1\n",
       "253090    1\n",
       "253092    1\n",
       "253093    1\n",
       "264363    1\n",
       "Name: nro_litigio, Length: 17115, dtype: int64"
      ]
     },
     "metadata": {},
     "execution_count": 8
    }
   ],
   "metadata": {}
  },
  {
   "cell_type": "markdown",
   "source": [
    "## Usuario asignado\n",
    "Para un posterior análisis si existe algún sesgo o problemática con un usuario dado"
   ],
   "metadata": {}
  },
  {
   "cell_type": "code",
   "execution_count": 125,
   "source": [
    "df.usuario_asignado.value_counts().plot(\n",
    "    kind='hist',\n",
    "    figsize=(10,10),\n",
    "    title='usuario_asignado'\n",
    "    )"
   ],
   "outputs": [
    {
     "output_type": "execute_result",
     "data": {
      "text/plain": [
       "<AxesSubplot:title={'center':'usuario_asignado'}, ylabel='Frequency'>"
      ]
     },
     "metadata": {},
     "execution_count": 125
    },
    {
     "output_type": "display_data",
     "data": {
      "image/png": "[encoded data removed]",
      "text/plain": [
       "<Figure size 720x720 with 1 Axes>"
      ]
     },
     "metadata": {
      "needs_background": "light"
     }
    }
   ],
   "metadata": {}
  },
  {
   "cell_type": "markdown",
   "source": [
    "## Producto reserva principal"
   ],
   "metadata": {}
  },
  {
   "cell_type": "code",
   "execution_count": 126,
   "source": [
    "df.producto_reserva_principal.value_counts(normalize=True).plot(\n",
    "    kind='barh',\n",
    "    figsize=(12,10),\n",
    "    title='producto_reserva_principal'\n",
    "    )"
   ],
   "outputs": [
    {
     "output_type": "execute_result",
     "data": {
      "text/plain": [
       "<AxesSubplot:title={'center':'producto_reserva_principal'}>"
      ]
     },
     "metadata": {},
     "execution_count": 126
    },
    {
     "output_type": "display_data",
     "data": {
      "image/png": "[encoded data removed]",
      "text/plain": [
       "<Figure size 864x720 with 1 Axes>"
      ]
     },
     "metadata": {
      "needs_background": "light"
     }
    }
   ],
   "metadata": {}
  },
  {
   "cell_type": "markdown",
   "source": [
    "## Pedido del cliente"
   ],
   "metadata": {}
  },
  {
   "cell_type": "code",
   "execution_count": 99,
   "source": [
    "df.pedido_del_cliente.value_counts(normalize=True).plot(\n",
    "    kind='barh',\n",
    "    figsize=(10,10),\n",
    "    title='pedido_del_cliente'\n",
    "    )"
   ],
   "outputs": [
    {
     "output_type": "execute_result",
     "data": {
      "text/plain": [
       "<AxesSubplot:title={'center':'pedido_del_cliente'}>"
      ]
     },
     "metadata": {},
     "execution_count": 99
    },
    {
     "output_type": "display_data",
     "data": {
      "image/png": "[encoded data removed]",
      "text/plain": [
       "<Figure size 720x720 with 1 Axes>"
      ]
     },
     "metadata": {
      "needs_background": "light"
     }
    }
   ],
   "metadata": {}
  },
  {
   "cell_type": "markdown",
   "source": [
    "## Propuesta aceptada por el cliente"
   ],
   "metadata": {}
  },
  {
   "cell_type": "code",
   "execution_count": 100,
   "source": [
    "df.propuesta_aceptada_cliente.value_counts(normalize=True).plot(\n",
    "    kind='barh',\n",
    "    figsize=(10,10),\n",
    "    title='propuesta_aceptada_cliente'\n",
    "    )"
   ],
   "outputs": [
    {
     "output_type": "execute_result",
     "data": {
      "text/plain": [
       "<AxesSubplot:title={'center':'propuesta_aceptada_cliente'}>"
      ]
     },
     "metadata": {},
     "execution_count": 100
    },
    {
     "output_type": "display_data",
     "data": {
      "image/png": "[encoded data removed]",
      "text/plain": [
       "<Figure size 720x720 with 1 Axes>"
      ]
     },
     "metadata": {
      "needs_background": "light"
     }
    }
   ],
   "metadata": {}
  },
  {
   "cell_type": "code",
   "execution_count": 79,
   "source": [
    "df[['pedido_del_cliente','propuesta_aceptada_cliente','pretension_del_cliente']].dropna()"
   ],
   "outputs": [
    {
     "output_type": "execute_result",
     "data": {
      "text/html": [
       "<div>\n",
       "<style scoped>\n",
       "    .dataframe tbody tr th:only-of-type {\n",
       "        vertical-align: middle;\n",
       "    }\n",
       "\n",
       "    .dataframe tbody tr th {\n",
       "        vertical-align: top;\n",
       "    }\n",
       "\n",
       "    .dataframe thead th {\n",
       "        text-align: right;\n",
       "    }\n",
       "</style>\n",
       "<table border=\"1\" class=\"dataframe\">\n",
       "  <thead>\n",
       "    <tr style=\"text-align: right;\">\n",
       "      <th></th>\n",
       "      <th>pedido_del_cliente</th>\n",
       "      <th>propuesta_aceptada_cliente</th>\n",
       "      <th>pretension_del_cliente</th>\n",
       "    </tr>\n",
       "  </thead>\n",
       "  <tbody>\n",
       "    <tr>\n",
       "      <th>12</th>\n",
       "      <td>CANCELAMENTO</td>\n",
       "      <td>OUTROS</td>\n",
       "      <td>DEVOLUCIÓN DEL PAGO INICIAL DE 12.767</td>\n",
       "    </tr>\n",
       "    <tr>\n",
       "      <th>18</th>\n",
       "      <td>CANCELAMENTO</td>\n",
       "      <td>OUTROS</td>\n",
       "      <td>SOLICITA LA DEVOLUCIÓN DEL VALOR DE SU BOLETO,...</td>\n",
       "    </tr>\n",
       "    <tr>\n",
       "      <th>37</th>\n",
       "      <td>CANCELAMENTO</td>\n",
       "      <td>CANCELAMENTO_SEM_CUSTOS</td>\n",
       "      <td>SOLICITA LA DEVOLUCIÓN DEL MONTO PAGADO (US$ 8...</td>\n",
       "    </tr>\n",
       "    <tr>\n",
       "      <th>41</th>\n",
       "      <td>DEIXAR_A_RESERVA_EM_ABERTO</td>\n",
       "      <td>OUTROS</td>\n",
       "      <td>Nuevas fechas de viaje o la devolución de nues...</td>\n",
       "    </tr>\n",
       "    <tr>\n",
       "      <th>46</th>\n",
       "      <td>CANCELAMENTO</td>\n",
       "      <td>OUTROS</td>\n",
       "      <td>Devolución al 100%</td>\n",
       "    </tr>\n",
       "    <tr>\n",
       "      <th>...</th>\n",
       "      <td>...</td>\n",
       "      <td>...</td>\n",
       "      <td>...</td>\n",
       "    </tr>\n",
       "    <tr>\n",
       "      <th>17091</th>\n",
       "      <td>DEVOLUCAO_DA_DIFERENCA</td>\n",
       "      <td>OUTROS</td>\n",
       "      <td>Requer devolução dos valores pagos e indenizaç...</td>\n",
       "    </tr>\n",
       "    <tr>\n",
       "      <th>17092</th>\n",
       "      <td>DEVOLUCAO_DA_DIFERENCA</td>\n",
       "      <td>OUTROS</td>\n",
       "      <td>Requer devolução dos valores pagos e indenizaç...</td>\n",
       "    </tr>\n",
       "    <tr>\n",
       "      <th>17094</th>\n",
       "      <td>DEVOLUCAO_DA_DIFERENCA</td>\n",
       "      <td>OUTROS</td>\n",
       "      <td>Requer devolução dos valores pagos e indenizaç...</td>\n",
       "    </tr>\n",
       "    <tr>\n",
       "      <th>17095</th>\n",
       "      <td>DEVOLUCAO_DA_DIFERENCA</td>\n",
       "      <td>OUTROS</td>\n",
       "      <td>Requer devolução dos valores pagos e indenizaç...</td>\n",
       "    </tr>\n",
       "    <tr>\n",
       "      <th>17098</th>\n",
       "      <td>DEVOLUCAO_DA_DIFERENCA</td>\n",
       "      <td>OUTROS</td>\n",
       "      <td>Requer devolução dos valores pagos e indenizaç...</td>\n",
       "    </tr>\n",
       "  </tbody>\n",
       "</table>\n",
       "<p>6012 rows × 3 columns</p>\n",
       "</div>"
      ],
      "text/plain": [
       "               pedido_del_cliente propuesta_aceptada_cliente  \\\n",
       "12                   CANCELAMENTO                     OUTROS   \n",
       "18                   CANCELAMENTO                     OUTROS   \n",
       "37                   CANCELAMENTO    CANCELAMENTO_SEM_CUSTOS   \n",
       "41     DEIXAR_A_RESERVA_EM_ABERTO                     OUTROS   \n",
       "46                   CANCELAMENTO                     OUTROS   \n",
       "...                           ...                        ...   \n",
       "17091      DEVOLUCAO_DA_DIFERENCA                     OUTROS   \n",
       "17092      DEVOLUCAO_DA_DIFERENCA                     OUTROS   \n",
       "17094      DEVOLUCAO_DA_DIFERENCA                     OUTROS   \n",
       "17095      DEVOLUCAO_DA_DIFERENCA                     OUTROS   \n",
       "17098      DEVOLUCAO_DA_DIFERENCA                     OUTROS   \n",
       "\n",
       "                                  pretension_del_cliente  \n",
       "12                 DEVOLUCIÓN DEL PAGO INICIAL DE 12.767  \n",
       "18     SOLICITA LA DEVOLUCIÓN DEL VALOR DE SU BOLETO,...  \n",
       "37     SOLICITA LA DEVOLUCIÓN DEL MONTO PAGADO (US$ 8...  \n",
       "41     Nuevas fechas de viaje o la devolución de nues...  \n",
       "46                                    Devolución al 100%  \n",
       "...                                                  ...  \n",
       "17091  Requer devolução dos valores pagos e indenizaç...  \n",
       "17092  Requer devolução dos valores pagos e indenizaç...  \n",
       "17094  Requer devolução dos valores pagos e indenizaç...  \n",
       "17095  Requer devolução dos valores pagos e indenizaç...  \n",
       "17098  Requer devolução dos valores pagos e indenizaç...  \n",
       "\n",
       "[6012 rows x 3 columns]"
      ]
     },
     "metadata": {},
     "execution_count": 79
    }
   ],
   "metadata": {}
  },
  {
   "cell_type": "markdown",
   "source": [
    "## Pretención del cliente"
   ],
   "metadata": {}
  },
  {
   "cell_type": "code",
   "execution_count": 68,
   "source": [
    "df.pretension_del_cliente.value_counts()"
   ],
   "outputs": [
    {
     "output_type": "execute_result",
     "data": {
      "text/plain": [
       "Cancelamento da compra/serviço com restituição do valor pago                                                                                                                                                                                                                                                                                     584\n",
       "Devolução proporcional/total do valor cobrado/pago                                                                                                                                                                                                                                                                                               493\n",
       "Requer indenização por danos morais e materiais.\\r\\n                                                                                                                                                                                                                                                                                             408\n",
       "Requer devolução dos valores pagos e indenização por danos morais                                                                                                                                                                                                                                                                                377\n",
       "Reclamo devolución del dinero                                                                                                                                                                                                                                                                                                                    297\n",
       "                                                                                                                                                                                                                                                                                                                                                ... \n",
       "Pleiteia-se por meio da presente reclamação o REEMBOLSO INTEGRAL EM DINHEIRO, sem a aplicação de qualquer penalidade ou multa, da quantia R$ $ 2.340,00 (dois mil, trezentos e quarenta reais),                                                                                                                                                    1\n",
       "Exijo meu dinheiro de volta. Golpe da decolar: anunciam promoção de passagens e cancelam ficando com o dinheiro.                                                                                                                                                                                                                                   1\n",
       "Boa noite prezados!Fiz uma compra junto a decolar no período de Maio de 2020.... já se passou mais de um ano, e até agora não tive meu reembolso, ligo várias vezes mais o sac e os telefones da plataforma não atende as ligações, quero uma posição da minha situação, total falta de respeito com o consumidor                                  1\n",
       "Gostaria por gentileza que me passasse o endereço dessa empresa a DECOLAR para que possa enviar juridicamente o meu pedido por que o meu processo já está com o advogado para ser encaminhados ate a empresa de vocês, Aguardo o endereço de vocês para que possa assim mandar as solicitações. Obrigado pela atenção! Att, Joaquim Henrique       1\n",
       "Que me devuelvan el dinero además de una compensación por el dinero que perdí en el arriendo del hotel y el arriendo\\r\\ndel vehículo que utilizaría en los 10 días que duraba el viaje, ya que ambos están pagados, y no tenían seguro, ya que yo\\r\\nsí quiero realizar el viaje y no me dan ninguna solución por medio de otra aerolínea\\r\\n      1\n",
       "Name: pretension_del_cliente, Length: 10619, dtype: int64"
      ]
     },
     "metadata": {},
     "execution_count": 68
    }
   ],
   "metadata": {}
  },
  {
   "cell_type": "code",
   "execution_count": 128,
   "source": [
    "pprint(propuesta.apply(clean.general).sample(5).values)"
   ],
   "outputs": [
    {
     "output_type": "stream",
     "name": "stdout",
     "text": [
      "array(['proposta decolar quais as opções para solucionar o problema na reserva do cliente conforme sistema não houve contatos do passageiro ficando impossibilitado de acionar na reserva do cliente alteração realizada de forma direta com o provedor aereo latam perdendo o controle do bilhete na decolar e possivel realizar alguma devolução não conforme informado pelo passageiro alterações oferecidas pela cia aerea aceitas pelo passageiro confirmando assim a viagem serviço aereo contratado utilizado ha alguma gestão que o cliente deve realizar não houve contatos do passageiro quais as orientações para o escritorio realizar a tratativa não oferecer acordo responsabildiade do passageiro devido alteração de ultima hora a decolar perdeu o acesso no bilhete aereo contratado sendo a alteração feita de forma direta com o provedor aereo contratadao latam passageiro aceita alteração oferecida cumprindo assim com a viagem',\n",
      "       'proposta decolar quais as opções para solucionar o problema na reserva do cliente se ja foi realizado o que o cliente pediu informar ja resolvido e possivel realizar alguma devolução por qual valor informar como o cliente receberia os valores e prazo não ha alguma gestão que o cliente deve realizar não quais as orientações para o escritorio realizar a tratativa companhia possui a imagem de reembolso com data e valor cliente não anexa nenhuma prova que não recebeu',\n",
      "       'vuelo a berlin\\xa0 \\xa0reserva nº se verifica en sistema y el vuelo fue usado en su totalidad non normalidad sin ningun inconveniente wetr electronic ticket record crs code inv cust pnr kdbcop tkt issued may pcc ba f iata name olmos natalia form of payment fci vixxxxxxxxxxxx xxxx m cpn a l flt cls date brdoff time st f b stat ib a may sclmad ok aon nqm used nvb may nva may bag pc ib a may madber ok aon nqm used nvb may nva may bag pc ib a jun bermad ok aon nqm used nvb jun nva jun bag pc ib a jun madscl ok aon nqm used nvb jun nva jun bag pc se hace la aclaracion que es responsabilidad de cada cliente en hacer las consultas necesarias para el ingreso en el destino como para el ingreso en la vuelta ya que las medidas sanitarias o las restricciones gubernamentales son tan variantes despegar hace la venta de los pasajes',\n",
      "       'reserva ja consta cancelada e em processo de reembolso cliente orientado a aguardar o prazo de ate meses para devolução dos valores',\n",
      "       'cliente tenia tiempo para gestionar el cambio antes del por lo queno se realizo el ticket ya no cuenta con validez'],\n",
      "      dtype=object)\n"
     ]
    }
   ],
   "metadata": {}
  },
  {
   "cell_type": "code",
   "execution_count": 129,
   "source": [
    "pprint(pret_cliente.apply(clean.general).sample(10).values)"
   ],
   "outputs": [
    {
     "output_type": "stream",
     "name": "stdout",
     "text": [
      "array(['devolver el dinero devolver el dinero www sernac cl',\n",
      "       'requer indenização por danos morais e materiais',\n",
      "       'solicito o imediato ressarcimento das passagens aereas que comprei em canceladas em menos de horas referente a reserva consulta ca pois nesse periodo ainda não havia justificativa para a empresa retardar o reembolso ja que foi antes da pandemia a empresa se apropriou indevidamente do meu dinheiro sem qualquer justificativa',\n",
      "       'solicito reembolso total dos valores pagos na reserva',\n",
      "       'requer devolução dos valores pagos e indenização por danos morais',\n",
      "       'devolucion dinero rapidez en el pago www sernac cl',\n",
      "       'solucion solicitada que me devuelvan los del hotel que cancele solucion solicitada no hay otra solucion',\n",
      "       'requer devolução dos valores pagos e indenização por danos morais',\n",
      "       'me devuelvan el valor pagado www sernac cl',\n",
      "       'gostaria do reembolso total de ambos pacotes não quero mais remarcar'],\n",
      "      dtype=object)\n"
     ]
    }
   ],
   "metadata": {}
  },
  {
   "cell_type": "markdown",
   "source": [
    "**Toamndo 50 palabras para la pretención del cliente tenemos el 90% de los casos**"
   ],
   "metadata": {}
  },
  {
   "cell_type": "code",
   "execution_count": 114,
   "source": [
    "pret_cliente.apply(lambda x: len(x.split())).describe()"
   ],
   "outputs": [
    {
     "output_type": "execute_result",
     "data": {
      "text/plain": [
       "count    17105.000000\n",
       "mean        20.945630\n",
       "std         31.009618\n",
       "min          1.000000\n",
       "25%          5.000000\n",
       "50%         10.000000\n",
       "75%         23.000000\n",
       "max        537.000000\n",
       "Name: pretension_del_cliente, dtype: float64"
      ]
     },
     "metadata": {},
     "execution_count": 114
    }
   ],
   "metadata": {}
  },
  {
   "cell_type": "code",
   "execution_count": 122,
   "source": [
    "len(list(filter(lambda x: x<=50, pret_cliente.apply(lambda x: len(x.split())))))/len(pret_cliente.apply(lambda x: len(x.split())))"
   ],
   "outputs": [
    {
     "output_type": "execute_result",
     "data": {
      "text/plain": [
       "0.9069277988892137"
      ]
     },
     "metadata": {},
     "execution_count": 122
    }
   ],
   "metadata": {}
  },
  {
   "cell_type": "code",
   "execution_count": 171,
   "source": [
    "plt.figure(figsize=(12,10))\n",
    "plt.grid()\n",
    "plt.title('Pretención del cliente')\n",
    "plt.ylabel('Fracción de cantidad de casos')\n",
    "plt.xlabel('Cantidad de palabras')\n",
    "plt.plot(list(range(5,150,2)), [proporcion(i, pret_cliente) for i in range(5,150,2)],'o')\n"
   ],
   "outputs": [
    {
     "output_type": "execute_result",
     "data": {
      "text/plain": [
       "[<matplotlib.lines.Line2D at 0x7fb9d62df460>]"
      ]
     },
     "metadata": {},
     "execution_count": 171
    },
    {
     "output_type": "display_data",
     "data": {
      "image/png": "[encoded data removed]",
      "text/plain": [
       "<Figure size 864x720 with 1 Axes>"
      ]
     },
     "metadata": {
      "needs_background": "light"
     }
    }
   ],
   "metadata": {}
  },
  {
   "cell_type": "markdown",
   "source": [
    "## Propuesta de ofrecimiento"
   ],
   "metadata": {}
  },
  {
   "cell_type": "markdown",
   "source": [
    "**Toamndo 200 palabras para la pretención del cliente tenemos el 90% de los casos**"
   ],
   "metadata": {}
  },
  {
   "cell_type": "code",
   "execution_count": 132,
   "source": [
    "pprint(propuesta.apply(clean.general).sample(5).values)"
   ],
   "outputs": [
    {
     "output_type": "stream",
     "name": "stdout",
     "text": [
      "array(['validando el caso cliente tiene una apertura de tickets y en este caso la cancelacion es bajo regulacion no se asegura devolucion del les sugerimos citar a la aerolinea para que brinde ofrecimiento',\n",
      "       'pax deve aguardar ate meses a partir da data de cancelamento para receber o reembolso integral referente a passagem aerea de r a quantia de r equivalente a taxa du nos iremos devolver por acordo',\n",
      "       'proposta decolar quais as opções para solucionar o problema na reserva do cliente se ja foi realizado o que o cliente pediu informar a reserva esta vencida não ha e possivel realizar alguma devolução por qual valor informar como o cliente receberia os valores e prazo não ha alguma gestão que o cliente deve realizar não quais as orientações para o escritorio realizar a tratativa o cliente estava nos enviando datas sem disponibilidade com a cia portanto as solicitações de alteraçao foram canceladas repetidamente a reserva esta vencida de acordo com a cia poderia ser alterada ate',\n",
      "       'hoy el boleto se encuentra caducado desde el mes de julio cumplio meses desde la emision si el estudio lo requiere se puede intentar contactar a aeromexico para ver si tiene alguna posibilidad de cambio aun no exenta de pago claramente quedo atenta',\n",
      "       'de acordo com a resposta do fornecedor devido ao não comparecimento foi cobrado penalidade no valor de r para cada apartamento e então foi realizado o reembolso com cupom no valor de r e mais o r ja tinha disponivel conforme o protocolo ro'],\n",
      "      dtype=object)\n"
     ]
    }
   ],
   "metadata": {}
  },
  {
   "cell_type": "code",
   "execution_count": 134,
   "source": [
    "propuesta.apply(lambda x: len(x.split())).describe()"
   ],
   "outputs": [
    {
     "output_type": "execute_result",
     "data": {
      "text/plain": [
       "count    16653.000000\n",
       "mean        91.885426\n",
       "std        108.436420\n",
       "min          0.000000\n",
       "25%         35.000000\n",
       "50%         65.000000\n",
       "75%        113.000000\n",
       "max       4106.000000\n",
       "Name: propuesta_de_ofrecimiento, dtype: float64"
      ]
     },
     "metadata": {},
     "execution_count": 134
    }
   ],
   "metadata": {}
  },
  {
   "cell_type": "code",
   "execution_count": 169,
   "source": [
    "proporcion(200,propuesta)"
   ],
   "outputs": [
    {
     "output_type": "execute_result",
     "data": {
      "text/plain": [
       "0.9082447607037771"
      ]
     },
     "metadata": {},
     "execution_count": 169
    }
   ],
   "metadata": {}
  },
  {
   "cell_type": "code",
   "execution_count": 170,
   "source": [
    "plt.figure(figsize=(12,10))\n",
    "plt.grid()\n",
    "plt.title('propuesta de ofrecimiento')\n",
    "plt.ylabel('Fracción de cantidad de casos')\n",
    "plt.xlabel('Cantidad de palabras')\n",
    "plt.plot(list(range(5,500,10)), [proporcion(i, propuesta) for i in range(5,500,10)],'o')\n"
   ],
   "outputs": [
    {
     "output_type": "execute_result",
     "data": {
      "text/plain": [
       "[<matplotlib.lines.Line2D at 0x7fb9d6373820>]"
      ]
     },
     "metadata": {},
     "execution_count": 170
    },
    {
     "output_type": "display_data",
     "data": {
      "image/png": "[encoded data removed]",
      "text/plain": [
       "<Figure size 864x720 with 1 Axes>"
      ]
     },
     "metadata": {
      "needs_background": "light"
     }
    }
   ],
   "metadata": {}
  },
  {
   "cell_type": "markdown",
   "source": [
    "## Hechos segun despegar\n",
    "en el 90% de los casos se toman 16 acciones para resolver un problema"
   ],
   "metadata": {}
  },
  {
   "cell_type": "code",
   "execution_count": 174,
   "source": [
    "import re "
   ],
   "outputs": [],
   "metadata": {}
  },
  {
   "cell_type": "code",
   "execution_count": 190,
   "source": [
    "pattern_date = re.compile(r'\\d{2}(?:\\/|\\-|\\\\)\\d{2}(?:\\/|\\-|\\\\)\\d{2,4}')\n",
    "hechos_segun_despegar = df.hechos_segun_despegar.dropna().apply(lambda x: list(filter(lambda y: len(y.split())>1, map(clean.general,re.split(pattern_date, x)))))"
   ],
   "outputs": [],
   "metadata": {}
  },
  {
   "cell_type": "code",
   "execution_count": 236,
   "source": [
    "hechos_segun_despegar.apply(len).value_counts().plot(\n",
    "    kind='barh',\n",
    "    figsize=(14,12),\n",
    "    title='Cantidad de acciones por hecho segun despegar',\n",
    "    )"
   ],
   "outputs": [
    {
     "output_type": "execute_result",
     "data": {
      "text/plain": [
       "<AxesSubplot:title={'center':'Cantidad de acciones por hecho segun despegar'}>"
      ]
     },
     "metadata": {},
     "execution_count": 236
    },
    {
     "output_type": "display_data",
     "data": {
      "image/png": "[encoded data removed]",
      "text/plain": [
       "<Figure size 1008x864 with 1 Axes>"
      ]
     },
     "metadata": {
      "needs_background": "light"
     }
    }
   ],
   "metadata": {}
  },
  {
   "cell_type": "code",
   "execution_count": 227,
   "source": [
    "hechos_segun_despegar.apply(len).describe()"
   ],
   "outputs": [
    {
     "output_type": "execute_result",
     "data": {
      "text/plain": [
       "count    16292.000000\n",
       "mean         6.834950\n",
       "std          6.366631\n",
       "min          0.000000\n",
       "25%          2.000000\n",
       "50%          5.000000\n",
       "75%          9.000000\n",
       "max         77.000000\n",
       "Name: hechos_segun_despegar, dtype: float64"
      ]
     },
     "metadata": {},
     "execution_count": 227
    }
   ],
   "metadata": {}
  },
  {
   "cell_type": "code",
   "execution_count": 237,
   "source": [
    "len(list(filter(lambda x: x<16, hechos_segun_despegar.apply(len))))/len(hechos_segun_despegar)"
   ],
   "outputs": [
    {
     "output_type": "execute_result",
     "data": {
      "text/plain": [
       "0.9136999754480727"
      ]
     },
     "metadata": {},
     "execution_count": 237
    }
   ],
   "metadata": {}
  },
  {
   "cell_type": "markdown",
   "source": [],
   "metadata": {}
  },
  {
   "cell_type": "code",
   "execution_count": null,
   "source": [],
   "outputs": [],
   "metadata": {}
  }
 ],
 "metadata": {
  "orig_nbformat": 4,
  "language_info": {
   "name": "python",
   "version": "3.8.10",
   "mimetype": "text/x-python",
   "codemirror_mode": {
    "name": "ipython",
    "version": 3
   },
   "pygments_lexer": "ipython3",
   "nbconvert_exporter": "python",
   "file_extension": ".py"
  },
  "kernelspec": {
   "name": "python3",
   "display_name": "Python 3.8.10 64-bit ('despegar': venv)"
  },
  "interpreter": {
   "hash": "1006e08467eafa107bdaacfb48a20cd35af86967bdd28bd37250a0ead7265496"
  }
 },
 "nbformat": 4,
 "nbformat_minor": 2
}